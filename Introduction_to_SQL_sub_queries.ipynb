{
  "nbformat": 4,
  "nbformat_minor": 0,
  "metadata": {
    "colab": {
      "name": "Introduction to SQL sub-queries.ipynb",
      "provenance": [],
      "include_colab_link": true
    },
    "kernelspec": {
      "name": "python3",
      "display_name": "Python 3"
    }
  },
  "cells": [
    {
      "cell_type": "markdown",
      "metadata": {
        "id": "view-in-github",
        "colab_type": "text"
      },
      "source": [
        "<a href=\"https://colab.research.google.com/github/RAYANE8LOUNIS/Deliveroo/blob/main/Introduction_to_SQL_sub_queries.ipynb\" target=\"_parent\"><img src=\"https://colab.research.google.com/assets/colab-badge.svg\" alt=\"Open In Colab\"/></a>"
      ]
    },
    {
      "cell_type": "markdown",
      "metadata": {
        "id": "pAynvpmlvdZt"
      },
      "source": [
        "### Introduction to SQL Sub-Queries\n",
        "\n",
        "This notebook explore the basics of the use of sub-queries with SQL"
      ]
    },
    {
      "cell_type": "code",
      "metadata": {
        "id": "_xkGEn95uh6W",
        "colab": {
          "base_uri": "https://localhost:8080/"
        },
        "outputId": "5bb551a4-82bd-4ed7-91a8-62cf9da1c9cd"
      },
      "source": [
        "import sqlite3\n",
        "\n",
        "# Create a database in memory\n",
        "conn = sqlite3.connect(\":memory:\")\n",
        "cursor = conn.cursor()\n",
        "\n",
        "# Create Tables\n",
        "cursor.execute(\"\"\"\n",
        "CREATE TABLE Client (\n",
        "    ClientId TEXT PRIMARY KEY,\n",
        "    Name TEXT,\n",
        "    Address TEXT,\n",
        "    DateOfBirth DATE\n",
        ");\n",
        "\"\"\")\n",
        "\n",
        "cursor.execute(\"\"\"\n",
        "CREATE TABLE Equipment (\n",
        "    EquipCode TEXT PRIMARY KEY,\n",
        "    EquipDescription TEXT,\n",
        "    Price REAL\n",
        ");\n",
        "\"\"\")\n",
        "\n",
        "cursor.execute(\"\"\"\n",
        "CREATE TABLE Orders (\n",
        "    OrderNo TEXT PRIMARY KEY,\n",
        "    OrderDate DATE,\n",
        "    ClientId TEXT,\n",
        "    FOREIGN KEY (ClientId) REFERENCES Client(ClientId)\n",
        ");\n",
        "\"\"\")\n",
        "\n",
        "cursor.execute(\"\"\"\n",
        "CREATE TABLE Equipment_Purchased (\n",
        "    EquipCode TEXT,\n",
        "    OrderNo TEXT,\n",
        "    Quantity INTEGER,\n",
        "    PRIMARY KEY (EquipCode, OrderNo),\n",
        "    FOREIGN KEY (EquipCode) REFERENCES Equipment(EquipCode),\n",
        "    FOREIGN KEY (OrderNo) REFERENCES Orders(OrderNo)\n",
        ");\n",
        "\"\"\")\n",
        "\n",
        "conn.commit()\n",
        "print(\"Tables created successfully!\")\n"
      ],
      "execution_count": 3,
      "outputs": [
        {
          "output_type": "stream",
          "name": "stdout",
          "text": [
            "Tables created successfully!\n"
          ]
        }
      ]
    },
    {
      "cell_type": "code",
      "metadata": {
        "id": "r9SeHPpgu73Z",
        "colab": {
          "base_uri": "https://localhost:8080/"
        },
        "outputId": "dbb88c48-2be6-4fb6-ab8e-4dc932c316ed"
      },
      "source": [
        "# here is where to INSERTING VALUES\n",
        "\n",
        "cursor.executemany(\"\"\"\n",
        "INSERT INTO Client (ClientId, Name, Address, DateOfBirth)\n",
        "VALUES (?, ?, ?, ?);\n",
        "\"\"\", [\n",
        "    ('C022', 'James Murray', 'High St, Cambridge', '1998-08-12'),\n",
        "    ('C012', 'Cornelius Garfield', 'Strand, Coventry', '1980-07-01'),\n",
        "    ('C010', 'Mark Ekshaw', 'High Bank, Mansfield', '2002-01-18'),\n",
        "    ('C001', 'James Worth', 'Old Road, Nottingham', '2005-05-20')\n",
        "])\n",
        "\n",
        "cursor.executemany(\"\"\"\n",
        "INSERT INTO Equipment (EquipCode, EquipDescription, Price)\n",
        "VALUES (?, ?, ?);\n",
        "\"\"\", [\n",
        "    ('E001', 'Nao Robot', 4000),\n",
        "    ('E006', 'PC', 300.00),\n",
        "    ('E005', 'Pens', 1.50),\n",
        "    ('E009', 'Baxter Robot', 53000.75)\n",
        "])\n",
        "\n",
        "cursor.executemany(\"\"\"\n",
        "INSERT INTO Orders (OrderNo, OrderDate, ClientId)\n",
        "VALUES (?, ?, ?);\n",
        "\"\"\", [\n",
        "    ('O01', '2017-03-02', 'C022'),\n",
        "    ('O02', '2017-03-10', 'C001')\n",
        "])\n",
        "\n",
        "cursor.executemany(\"\"\"\n",
        "INSERT INTO Equipment_Purchased (EquipCode, OrderNo, Quantity)\n",
        "VALUES (?, ?, ?);\n",
        "\"\"\", [\n",
        "    ('E001', 'O01', 20),\n",
        "    ('E006', 'O01', 10),\n",
        "    ('E006', 'O02', 5),\n",
        "    ('E009', 'O02', 5)\n",
        "])\n",
        "\n",
        "conn.commit()\n",
        "print(\"Data inserted successfully!\")\n"
      ],
      "execution_count": 4,
      "outputs": [
        {
          "output_type": "stream",
          "name": "stdout",
          "text": [
            "Data inserted successfully!\n"
          ]
        }
      ]
    },
    {
      "cell_type": "code",
      "metadata": {
        "id": "L9nIsr9Jwuds",
        "colab": {
          "base_uri": "https://localhost:8080/"
        },
        "outputId": "6f67343a-4bc9-447f-faad-a87ab3171152"
      },
      "source": [
        "# here is a list clients who were 18 before Jan 1, 2017\n",
        "cursor.execute(\"\"\"\n",
        "SELECT Name, Address, DateOfBirth\n",
        "FROM Client\n",
        "WHERE DateOfBirth <= date('2017-01-01', '-18 years');\n",
        "\"\"\")\n",
        "\n",
        "for row in cursor.fetchall():\n",
        "    print(row)\n"
      ],
      "execution_count": 5,
      "outputs": [
        {
          "output_type": "stream",
          "name": "stdout",
          "text": [
            "('James Murray', 'High St, Cambridge', '1998-08-12')\n",
            "('Cornelius Garfield', 'Strand, Coventry', '1980-07-01')\n"
          ]
        }
      ]
    },
    {
      "cell_type": "code",
      "metadata": {
        "id": "HfJEEubPye8h",
        "colab": {
          "base_uri": "https://localhost:8080/"
        },
        "outputId": "d11e56d6-3b3a-4cb6-fe8f-1db79b4122d6"
      },
      "source": [
        "#Increase price of equipment E09 by 20%\n",
        "cursor.execute(\"\"\"\n",
        "UPDATE Equipment\n",
        "SET Price = Price * 1.2\n",
        "WHERE EquipCode = 'E009';\n",
        "\"\"\")\n",
        "conn.commit()\n",
        "print(\"Price updated successfully!\")\n"
      ],
      "execution_count": 6,
      "outputs": [
        {
          "output_type": "stream",
          "name": "stdout",
          "text": [
            "Price updated successfully!\n"
          ]
        }
      ]
    },
    {
      "cell_type": "code",
      "metadata": {
        "id": "NlJ3wc21zU3l",
        "colab": {
          "base_uri": "https://localhost:8080/"
        },
        "outputId": "593de950-5747-42a9-baee-eabce2eb6c93"
      },
      "source": [
        "# here is the List of clients with orders, sorted by name and order date:\n",
        "cursor.execute(\"\"\"\n",
        "SELECT c.Name AS 'Name of the Client',\n",
        "       c.Address AS 'Address of the Client',\n",
        "       c.DateOfBirth AS 'Date of Birth',\n",
        "       o.OrderNo AS 'Order No',\n",
        "       o.OrderDate AS 'Date Order Made'\n",
        "FROM Client c\n",
        "JOIN Orders o ON c.ClientId = o.ClientId\n",
        "ORDER BY c.Name ASC, o.OrderDate ASC;\n",
        "\"\"\")\n",
        "\n",
        "for row in cursor.fetchall():\n",
        "    print(row)\n"
      ],
      "execution_count": 7,
      "outputs": [
        {
          "output_type": "stream",
          "name": "stdout",
          "text": [
            "('James Murray', 'High St, Cambridge', '1998-08-12', 'O01', '2017-03-02')\n",
            "('James Worth', 'Old Road, Nottingham', '2005-05-20', 'O02', '2017-03-10')\n"
          ]
        }
      ]
    },
    {
      "cell_type": "markdown",
      "metadata": {
        "id": "hYzqFZIn0BpL"
      },
      "source": [
        "That's it, this code should be used as a complement to the article  "
      ]
    }
  ]
}