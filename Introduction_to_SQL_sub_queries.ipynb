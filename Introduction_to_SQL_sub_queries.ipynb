{
  "nbformat": 4,
  "nbformat_minor": 0,
  "metadata": {
    "colab": {
      "name": "Introduction to SQL sub-queries.ipynb",
      "provenance": [],
      "toc_visible": true,
      "include_colab_link": true
    },
    "kernelspec": {
      "name": "python3",
      "display_name": "Python 3"
    }
  },
  "cells": [
    {
      "cell_type": "markdown",
      "metadata": {
        "id": "view-in-github",
        "colab_type": "text"
      },
      "source": [
        "<a href=\"https://colab.research.google.com/github/RAYANE8LOUNIS/Deliveroo/blob/main/Introduction_to_SQL_sub_queries.ipynb\" target=\"_parent\"><img src=\"https://colab.research.google.com/assets/colab-badge.svg\" alt=\"Open In Colab\"/></a>"
      ]
    },
    {
      "cell_type": "markdown",
      "metadata": {
        "id": "pAynvpmlvdZt"
      },
      "source": [
        "### Introduction to SQL Sub-Queries\n",
        "\n",
        "This notebook explore the basics of the use of sub-queries with SQL"
      ]
    },
    {
      "cell_type": "code",
      "metadata": {
        "id": "_xkGEn95uh6W",
        "colab": {
          "base_uri": "https://localhost:8080/"
        },
        "outputId": "aab834a6-6328-407f-bac1-029f2310cb13"
      },
      "source": [
        "import sqlite3\n",
        "\n",
        "# Create a database in memory\n",
        "conn = sqlite3.connect(\":memory:\")\n",
        "cursor = conn.cursor()\n",
        "\n",
        "# Create Tables\n",
        "cursor.execute(\"\"\"\n",
        "CREATE TABLE Client (\n",
        "    ClientId TEXT PRIMARY KEY,\n",
        "    Name TEXT,\n",
        "    Address TEXT,\n",
        "    DateOfBirth DATE\n",
        ");\n",
        "\"\"\")\n",
        "\n",
        "cursor.execute(\"\"\"\n",
        "CREATE TABLE Equipment (\n",
        "    EquipCode TEXT PRIMARY KEY,\n",
        "    EquipDescription TEXT,\n",
        "    Price REAL\n",
        ");\n",
        "\"\"\")\n",
        "\n",
        "cursor.execute(\"\"\"\n",
        "CREATE TABLE Orders (\n",
        "    OrderNo TEXT PRIMARY KEY,\n",
        "    OrderDate DATE,\n",
        "    ClientId TEXT,\n",
        "    FOREIGN KEY (ClientId) REFERENCES Client(ClientId)\n",
        ");\n",
        "\"\"\")\n",
        "\n",
        "cursor.execute(\"\"\"\n",
        "CREATE TABLE Equipment_Purchased (\n",
        "    EquipCode TEXT,\n",
        "    OrderNo TEXT,\n",
        "    Quantity INTEGER,\n",
        "    PRIMARY KEY (EquipCode, OrderNo),\n",
        "    FOREIGN KEY (EquipCode) REFERENCES Equipment(EquipCode),\n",
        "    FOREIGN KEY (OrderNo) REFERENCES Orders(OrderNo)\n",
        ");\n",
        "\"\"\")\n",
        "\n",
        "conn.commit()\n",
        "print(\"Tables created successfully!\")\n"
      ],
      "execution_count": 5,
      "outputs": [
        {
          "output_type": "stream",
          "name": "stdout",
          "text": [
            "Database 'School_DB' created successfully!\n",
            "Tables created successfully!\n"
          ]
        }
      ]
    },
    {
      "cell_type": "code",
      "metadata": {
        "id": "r9SeHPpgu73Z",
        "colab": {
          "base_uri": "https://localhost:8080/"
        },
        "outputId": "dbb88c48-2be6-4fb6-ab8e-4dc932c316ed"
      },
      "source": [
        "# here is where to INSERTING VALUES\n",
        "\n",
        "cursor.executemany(\"\"\"\n",
        "INSERT INTO Client (ClientId, Name, Address, DateOfBirth)\n",
        "VALUES (?, ?, ?, ?);\n",
        "\"\"\", [\n",
        "    ('C022', 'James Murray', 'High St, Cambridge', '1998-08-12'),\n",
        "    ('C012', 'Cornelius Garfield', 'Strand, Coventry', '1980-07-01'),\n",
        "    ('C010', 'Mark Ekshaw', 'High Bank, Mansfield', '2002-01-18'),\n",
        "    ('C001', 'James Worth', 'Old Road, Nottingham', '2005-05-20')\n",
        "])\n",
        "\n",
        "cursor.executemany(\"\"\"\n",
        "INSERT INTO Equipment (EquipCode, EquipDescription, Price)\n",
        "VALUES (?, ?, ?);\n",
        "\"\"\", [\n",
        "    ('E001', 'Nao Robot', 4000),\n",
        "    ('E006', 'PC', 300.00),\n",
        "    ('E005', 'Pens', 1.50),\n",
        "    ('E009', 'Baxter Robot', 53000.75)\n",
        "])\n",
        "\n",
        "cursor.executemany(\"\"\"\n",
        "INSERT INTO Orders (OrderNo, OrderDate, ClientId)\n",
        "VALUES (?, ?, ?);\n",
        "\"\"\", [\n",
        "    ('O01', '2017-03-02', 'C022'),\n",
        "    ('O02', '2017-03-10', 'C001')\n",
        "])\n",
        "\n",
        "cursor.executemany(\"\"\"\n",
        "INSERT INTO Equipment_Purchased (EquipCode, OrderNo, Quantity)\n",
        "VALUES (?, ?, ?);\n",
        "\"\"\", [\n",
        "    ('E001', 'O01', 20),\n",
        "    ('E006', 'O01', 10),\n",
        "    ('E006', 'O02', 5),\n",
        "    ('E009', 'O02', 5)\n",
        "])\n",
        "\n",
        "conn.commit()\n",
        "print(\"Data inserted successfully!\")\n"
      ],
      "execution_count": 4,
      "outputs": [
        {
          "output_type": "stream",
          "name": "stdout",
          "text": [
            "Data inserted successfully!\n"
          ]
        }
      ]
    },
    {
      "cell_type": "code",
      "metadata": {
        "id": "L9nIsr9Jwuds",
        "colab": {
          "base_uri": "https://localhost:8080/"
        },
        "outputId": "6f67343a-4bc9-447f-faad-a87ab3171152"
      },
      "source": [
        "# here is a list clients who were 18 before Jan 1, 2017\n",
        "cursor.execute(\"\"\"\n",
        "SELECT Name, Address, DateOfBirth\n",
        "FROM Client\n",
        "WHERE DateOfBirth <= date('2017-01-01', '-18 years');\n",
        "\"\"\")\n",
        "\n",
        "for row in cursor.fetchall():\n",
        "    print(row)\n"
      ],
      "execution_count": 5,
      "outputs": [
        {
          "output_type": "stream",
          "name": "stdout",
          "text": [
            "('James Murray', 'High St, Cambridge', '1998-08-12')\n",
            "('Cornelius Garfield', 'Strand, Coventry', '1980-07-01')\n"
          ]
        }
      ]
    },
    {
      "cell_type": "code",
      "metadata": {
        "id": "HfJEEubPye8h",
        "colab": {
          "base_uri": "https://localhost:8080/"
        },
        "outputId": "d11e56d6-3b3a-4cb6-fe8f-1db79b4122d6"
      },
      "source": [
        "#Increase price of equipment E09 by 20%\n",
        "cursor.execute(\"\"\"\n",
        "UPDATE Equipment\n",
        "SET Price = Price * 1.2\n",
        "WHERE EquipCode = 'E009';\n",
        "\"\"\")\n",
        "conn.commit()\n",
        "print(\"Price updated successfully!\")\n"
      ],
      "execution_count": 6,
      "outputs": [
        {
          "output_type": "stream",
          "name": "stdout",
          "text": [
            "Price updated successfully!\n"
          ]
        }
      ]
    },
    {
      "cell_type": "code",
      "metadata": {
        "id": "NlJ3wc21zU3l",
        "colab": {
          "base_uri": "https://localhost:8080/"
        },
        "outputId": "593de950-5747-42a9-baee-eabce2eb6c93"
      },
      "source": [
        "# here is the List of clients with orders, sorted by name and order date:\n",
        "cursor.execute(\"\"\"\n",
        "SELECT c.Name AS 'Name of the Client',\n",
        "       c.Address AS 'Address of the Client',\n",
        "       c.DateOfBirth AS 'Date of Birth',\n",
        "       o.OrderNo AS 'Order No',\n",
        "       o.OrderDate AS 'Date Order Made'\n",
        "FROM Client c\n",
        "JOIN Orders o ON c.ClientId = o.ClientId\n",
        "ORDER BY c.Name ASC, o.OrderDate ASC;\n",
        "\"\"\")\n",
        "\n",
        "for row in cursor.fetchall():\n",
        "    print(row)\n"
      ],
      "execution_count": 7,
      "outputs": [
        {
          "output_type": "stream",
          "name": "stdout",
          "text": [
            "('James Murray', 'High St, Cambridge', '1998-08-12', 'O01', '2017-03-02')\n",
            "('James Worth', 'Old Road, Nottingham', '2005-05-20', 'O02', '2017-03-10')\n"
          ]
        }
      ]
    },
    {
      "cell_type": "markdown",
      "metadata": {
        "id": "hYzqFZIn0BpL"
      },
      "source": [
        "That's it, this code should be used as a complement to the article  "
      ]
    },
    {
      "cell_type": "markdown",
      "source": [
        "task 2\n"
      ],
      "metadata": {
        "id": "Aa8JWFPbRNQ_"
      }
    },
    {
      "cell_type": "code",
      "source": [
        "import sqlite3\n",
        "\n",
        "# Create the database file\n",
        "conn = sqlite3.connect(\"School_DB.db\")\n",
        "cursor = conn.cursor()\n",
        "print(\"Database 'School_DB' created successfully!\")\n"
      ],
      "metadata": {
        "colab": {
          "base_uri": "https://localhost:8080/"
        },
        "id": "xxPEjub8RPI8",
        "outputId": "1bff6378-855e-4e39-b9ac-5f1521e8202f"
      },
      "execution_count": 43,
      "outputs": [
        {
          "output_type": "stream",
          "name": "stdout",
          "text": [
            "Database 'School_DB' created successfully!\n"
          ]
        }
      ]
    },
    {
      "cell_type": "code",
      "source": [
        "cursor.execute(\"DROP TABLE IF EXISTS Module;\")\n",
        "cursor.execute(\"DROP TABLE IF EXISTS Student;\")\n",
        "cursor.execute(\"DROP TABLE IF EXISTS Grading;\")\n",
        "conn.commit()\n",
        "print(\" Old tables dropped successfully!\")\n"
      ],
      "metadata": {
        "colab": {
          "base_uri": "https://localhost:8080/"
        },
        "id": "3GZdiZ8wVLyI",
        "outputId": "c4339690-5e84-4005-c585-8d353dc6e788"
      },
      "execution_count": 44,
      "outputs": [
        {
          "output_type": "stream",
          "name": "stdout",
          "text": [
            " Old tables dropped successfully!\n"
          ]
        }
      ]
    },
    {
      "cell_type": "code",
      "source": [
        "# Create Module Table\n",
        "cursor.execute(\"\"\"\n",
        "CREATE TABLE Module (\n",
        "    ModuleCode TEXT PRIMARY KEY,\n",
        "    ModuleName TEXT NOT NULL,\n",
        "    Teacher TEXT NOT NULL,\n",
        "    Credits INTEGER NOT NULL\n",
        ");\n",
        "\"\"\")\n",
        "\n",
        "# Create Student Table\n",
        "cursor.execute(\"\"\"\n",
        "CREATE TABLE Student (\n",
        "    StudentID TEXT PRIMARY KEY,\n",
        "    FirstName TEXT NOT NULL,\n",
        "    LastName TEXT NOT NULL,\n",
        "    Major TEXT NOT NULL CHECK (Major IN ('Business', 'Computer Science', 'Economics', 'Law')),\n",
        "    DateOfBirth DATE NOT NULL,\n",
        "    StudentDebt REAL DEFAULT 0\n",
        ");\n",
        "\"\"\")\n",
        "\n",
        "# Create Grading Table\n",
        "cursor.execute(\"\"\"\n",
        "CREATE TABLE Grading (\n",
        "    StudentID TEXT,\n",
        "    ModuleCode TEXT,\n",
        "    Mark INTEGER,\n",
        "    PRIMARY KEY (StudentID, ModuleCode),\n",
        "    FOREIGN KEY (StudentID) REFERENCES Student(StudentID),\n",
        "    FOREIGN KEY (ModuleCode) REFERENCES Module(ModuleCode)\n",
        ");\n",
        "\"\"\")\n",
        "\n",
        "conn.commit()\n",
        "print(\" Tables 'Module', 'Student', 'Grading' created successfully miss fakiha!\")\n"
      ],
      "metadata": {
        "colab": {
          "base_uri": "https://localhost:8080/"
        },
        "id": "rXcz0VLWRVQP",
        "outputId": "09507d19-2b83-4941-f56b-cf45863aa183"
      },
      "execution_count": 45,
      "outputs": [
        {
          "output_type": "stream",
          "name": "stdout",
          "text": [
            " Tables 'Module', 'Student', 'Grading' created successfully miss fakiha!\n"
          ]
        }
      ]
    },
    {
      "cell_type": "code",
      "source": [
        "# Insert Modules\n",
        "cursor.executemany(\"\"\"\n",
        "INSERT INTO Module (ModuleCode, ModuleName, Teacher, Credits)\n",
        "VALUES (?, ?, ?, ?);\n",
        "\"\"\", [\n",
        "    ('CS101', 'Introduction to Programming', 'Dr. Smith', 3),\n",
        "    ('CS102', 'Data Structures', 'Dr. Johnson', 4),\n",
        "    ('EC201', 'Microeconomics', 'Dr. Brown', 3),\n",
        "    ('LW301', 'Criminal Law', 'Dr. White', 4)\n",
        "])\n",
        "\n",
        "# Insert Students\n",
        "cursor.executemany(\"\"\"\n",
        "INSERT INTO Student (StudentID, FirstName, LastName, Major, DateOfBirth, StudentDebt)\n",
        "VALUES (?, ?, ?, ?, ?, ?);\n",
        "\"\"\", [\n",
        "    ('S001', 'Alice', 'Williams', 'Computer Science', '2000-05-15', 1000),\n",
        "    ('S002', 'Bob', 'Johnson', 'Economics', '1999-08-22', 200),\n",
        "    ('S003', 'Charlie', 'Brown', 'Business', '2001-02-10', 50),\n",
        "    ('S004', 'David', 'Smith', 'Law', '2002-11-30', 0)\n",
        "])\n",
        "\n",
        "# Insert Grading Data\n",
        "cursor.executemany(\"\"\"\n",
        "INSERT INTO Grading (StudentID, ModuleCode, Mark)\n",
        "VALUES (?, ?, ?);\n",
        "\"\"\", [\n",
        "    ('S001', 'CS101', 85),\n",
        "    ('S002', 'EC201', 78),\n",
        "    ('S003', 'CS102', 90),\n",
        "    ('S004', 'LW301', 88)\n",
        "])\n",
        "\n",
        "conn.commit()\n",
        "print(\" Data inserted successfully!\")\n"
      ],
      "metadata": {
        "colab": {
          "base_uri": "https://localhost:8080/"
        },
        "id": "zhwRc5OERgGo",
        "outputId": "18bdaadb-0818-4395-eca4-52adba644f6c"
      },
      "execution_count": 46,
      "outputs": [
        {
          "output_type": "stream",
          "name": "stdout",
          "text": [
            " Data inserted successfully!\n"
          ]
        }
      ]
    },
    {
      "cell_type": "code",
      "source": [
        "import os\n",
        "os.rename(\"School_DB.db\", \"International_College.db\")\n",
        "print(\" Database renamed successfully!\")\n",
        "conn = sqlite3.connect(\"International_College.db\")\n",
        "cursor = conn.cursor()\n",
        "print(\" Connected to 'International_College' database!\")\n",
        "\n"
      ],
      "metadata": {
        "colab": {
          "base_uri": "https://localhost:8080/"
        },
        "id": "3DKouwOgWdMm",
        "outputId": "e98caf90-a8d5-4169-dfc7-70270e4ac4d5"
      },
      "execution_count": 47,
      "outputs": [
        {
          "output_type": "stream",
          "name": "stdout",
          "text": [
            " Database renamed successfully!\n",
            " Connected to 'International_College' database!\n"
          ]
        }
      ]
    },
    {
      "cell_type": "code",
      "source": [
        "cursor.execute(\"ALTER TABLE Module RENAME TO Module_2022;\")\n",
        "cursor.execute(\"ALTER TABLE Student RENAME TO Student_2022;\")\n",
        "cursor.execute(\"ALTER TABLE Grading RENAME TO Grading_2022;\")\n",
        "conn.commit()\n",
        "print(\" Tables renamed successfully miss Fakiha!\")\n"
      ],
      "metadata": {
        "colab": {
          "base_uri": "https://localhost:8080/"
        },
        "id": "hMaiBOY0W_EF",
        "outputId": "124606fd-bca2-46c4-e269-7de5ae237c61"
      },
      "execution_count": 48,
      "outputs": [
        {
          "output_type": "stream",
          "name": "stdout",
          "text": [
            " Tables renamed successfully miss Fakiha!\n"
          ]
        }
      ]
    },
    {
      "cell_type": "code",
      "source": [
        "# Helper function to run and display queries\n",
        "def run_query(query, description=\"\"):\n",
        "    print(\"\\n\" + description)\n",
        "    cursor.execute(query)\n",
        "    for row in cursor.fetchall():\n",
        "        print(row)\n",
        "\n",
        "# 1. List Modules Alphabetically\n",
        "run_query(\"SELECT ModuleName FROM Module_2022 ORDER BY ModuleName ASC;\", \" Modules Sorted Alphabetically:\")\n",
        "\n",
        "# 2. List Students by Date of Birth\n",
        "run_query(\"SELECT StudentID, FirstName, LastName, Major, DateOfBirth FROM Student_2022 ORDER BY DateOfBirth ASC;\", \" Students Sorted by DOB:\")\n",
        "\n",
        "# 3. List Teachers and Their Modules\n",
        "run_query(\"SELECT Teacher, ModuleName FROM Module_2022 ORDER BY Teacher ASC;\", \" Teachers and Their Modules:\")\n",
        "\n",
        "# 4. Calculate Average Student Debt\n",
        "run_query(\"SELECT AVG(StudentDebt) FROM Student_2022;\", \" Average Student Debt:\")\n",
        "\n",
        "# 5. Create Temporary Table 'List' (SQLite uses temporary tables differently)\n",
        "cursor.execute(\"\"\"\n",
        "CREATE TEMP TABLE List AS\n",
        "SELECT g.StudentID, s.FirstName, g.ModuleCode, m.ModuleName\n",
        "FROM Grading_2022 g\n",
        "JOIN Student_2022 s ON g.StudentID = s.StudentID\n",
        "JOIN Module_2022 m ON g.ModuleCode = m.ModuleCode;\n",
        "\"\"\")\n",
        "run_query(\"SELECT * FROM List;\", \" Temporary Table 'List' Data:\")\n",
        "\n",
        "# 6. Count Students per Major\n",
        "run_query(\"SELECT Major, COUNT(*) FROM Student_2022 GROUP BY Major;\", \" Number of Students Per Major:\")\n",
        "\n",
        "# 7. Delete Law Students and Undo\n",
        "run_query(\"SELECT * FROM Student_2022 WHERE Major = 'Law';\", \" Law Students Before Deletion:\")\n",
        "cursor.execute(\"DELETE FROM Student_2022 WHERE Major = 'Law';\")\n",
        "run_query(\"SELECT * FROM Student_2022;\", \" Students After Deleting Law Major:\")\n",
        "conn.rollback()  # Undo delete\n",
        "run_query(\"SELECT * FROM Student_2022;\", \"Law Students Restored (Rollback Successful):\")\n",
        "\n",
        "# 8. List Students Who Got a Grade 'A'\n",
        "run_query(\"\"\"\n",
        "SELECT s.StudentID, s.FirstName, s.LastName, s.Major, g.ModuleCode, m.ModuleName\n",
        "FROM Grading_2022 g\n",
        "JOIN Student_2022 s ON g.StudentID = s.StudentID\n",
        "JOIN Module_2022 m ON g.ModuleCode = m.ModuleCode\n",
        "WHERE g.Mark >= 85;\n",
        "\"\"\", \" Students Who Got an A:\")\n",
        "\n",
        "# 9. Find Student with Least Debt\n",
        "run_query(\"SELECT StudentID, FirstName, LastName, Major, StudentDebt FROM Student_2022 ORDER BY StudentDebt ASC LIMIT 1;\", \" Student with Least Debt:\")\n"
      ],
      "metadata": {
        "colab": {
          "base_uri": "https://localhost:8080/"
        },
        "id": "7NbenLtZRrYZ",
        "outputId": "bb25843c-a837-4952-9971-86962b22e641"
      },
      "execution_count": 49,
      "outputs": [
        {
          "output_type": "stream",
          "name": "stdout",
          "text": [
            "\n",
            " Modules Sorted Alphabetically:\n",
            "('Criminal Law',)\n",
            "('Data Structures',)\n",
            "('Introduction to Programming',)\n",
            "('Microeconomics',)\n",
            "\n",
            " Students Sorted by DOB:\n",
            "('S002', 'Bob', 'Johnson', 'Economics', '1999-08-22')\n",
            "('S001', 'Alice', 'Williams', 'Computer Science', '2000-05-15')\n",
            "('S003', 'Charlie', 'Brown', 'Business', '2001-02-10')\n",
            "('S004', 'David', 'Smith', 'Law', '2002-11-30')\n",
            "\n",
            " Teachers and Their Modules:\n",
            "('Dr. Brown', 'Microeconomics')\n",
            "('Dr. Johnson', 'Data Structures')\n",
            "('Dr. Smith', 'Introduction to Programming')\n",
            "('Dr. White', 'Criminal Law')\n",
            "\n",
            " Average Student Debt:\n",
            "(312.5,)\n",
            "\n",
            " Temporary Table 'List' Data:\n",
            "('S001', 'Alice', 'CS101', 'Introduction to Programming')\n",
            "('S002', 'Bob', 'EC201', 'Microeconomics')\n",
            "('S003', 'Charlie', 'CS102', 'Data Structures')\n",
            "('S004', 'David', 'LW301', 'Criminal Law')\n",
            "\n",
            " Number of Students Per Major:\n",
            "('Business', 1)\n",
            "('Computer Science', 1)\n",
            "('Economics', 1)\n",
            "('Law', 1)\n",
            "\n",
            " Law Students Before Deletion:\n",
            "('S004', 'David', 'Smith', 'Law', '2002-11-30', 0.0)\n",
            "\n",
            " Students After Deleting Law Major:\n",
            "('S001', 'Alice', 'Williams', 'Computer Science', '2000-05-15', 1000.0)\n",
            "('S002', 'Bob', 'Johnson', 'Economics', '1999-08-22', 200.0)\n",
            "('S003', 'Charlie', 'Brown', 'Business', '2001-02-10', 50.0)\n",
            "\n",
            "Law Students Restored (Rollback Successful):\n",
            "('S001', 'Alice', 'Williams', 'Computer Science', '2000-05-15', 1000.0)\n",
            "('S002', 'Bob', 'Johnson', 'Economics', '1999-08-22', 200.0)\n",
            "('S003', 'Charlie', 'Brown', 'Business', '2001-02-10', 50.0)\n",
            "('S004', 'David', 'Smith', 'Law', '2002-11-30', 0.0)\n",
            "\n",
            " Students Who Got an A:\n",
            "('S001', 'Alice', 'Williams', 'Computer Science', 'CS101', 'Introduction to Programming')\n",
            "('S003', 'Charlie', 'Brown', 'Business', 'CS102', 'Data Structures')\n",
            "('S004', 'David', 'Smith', 'Law', 'LW301', 'Criminal Law')\n",
            "\n",
            " Student with Least Debt:\n",
            "('S004', 'David', 'Smith', 'Law', 0.0)\n"
          ]
        }
      ]
    }
  ]
}